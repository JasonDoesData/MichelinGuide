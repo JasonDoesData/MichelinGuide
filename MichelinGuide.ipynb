{
 "cells": [
  {
   "cell_type": "code",
   "execution_count": 2,
   "id": "d4280072",
   "metadata": {},
   "outputs": [],
   "source": [
    "import requests\n",
    "import webbrowser\n",
    "from bs4 import BeautifulSoup\n",
    "import pandas as pd"
   ]
  },
  {
   "cell_type": "code",
   "execution_count": 3,
   "id": "b83f0379",
   "metadata": {},
   "outputs": [],
   "source": [
    "class Michelin:\n",
    "    def __init__(self, page_num):\n",
    "        self.page_num = page_num\n",
    "        self.url = f'https://guide.michelin.com/gb/en/restaurants/page/{self.page_num}'\n",
    "        #webbrowser.open(url)\n",
    "        self.page = requests.get(self.url)\n",
    "        self.soup = BeautifulSoup(self.page.text, 'html.parser')\n",
    "\n",
    "    def find_elements(self):\n",
    "        return self.soup.find_all('div', {\"class\": \"card__menu-content js-match-height-content\"})\n",
    "\n",
    "    def get_details(self):\n",
    "        elements = self.find_elements()\n",
    "        restaurants_dict = {}\n",
    "        for num in range(len(elements)):\n",
    "            restaurant_name = elements[num].find('h3').getText().strip()\n",
    "            location = elements[num].find('div', {\"class\": \"card__menu-footer--location flex-fill pl-text\"}).getText().strip()\n",
    "            if ',' in location:\n",
    "                city = location.split(\",\")[0]\n",
    "                country = location.split(\",\")[1].strip()\n",
    "            else:\n",
    "                city = None\n",
    "                country = location\n",
    "                \n",
    "            price = elements[num].find('div', {\"class\": \"card__menu-footer--price pl-text\"}).getText().strip().replace(\" \",'').replace('·','').split()[0]\n",
    "            \n",
    "            if \"·\" in elements[num].find('div', {\"class\": \"card__menu-footer--price pl-text\"}).getText():\n",
    "                cuisine = elements[num].find('div', {\"class\": \"card__menu-footer--price pl-text\"}).getText()[41:].replace('·','').strip()\n",
    "            else:\n",
    "                cuisine = elements[num].find('div', {\"class\": \"card__menu-footer--price pl-text\"}).getText().strip()\n",
    "            images = elements[num].find_all('img')\n",
    "            recognition = None\n",
    "            \n",
    "            if len(images) > 1:\n",
    "                recognition = f'{len(images)} stars'\n",
    "            elif len(images) == 1:\n",
    "                if 'gourmand' in images[0]['src']:\n",
    "                    recognition = 'Bib Gourmand'\n",
    "                elif 'durable' in images[0]['src']:\n",
    "                    recognition = 'Green Star'\n",
    "                else:\n",
    "                    recognition = '1 Star'\n",
    "            else:\n",
    "                recognition = None\n",
    "                  \n",
    "            restaurants_dict[restaurant_name] = [city, country, price, cuisine, recognition]\n",
    "        return restaurants_dict"
   ]
  },
  {
   "cell_type": "code",
   "execution_count": 5,
   "id": "f4aafe1c",
   "metadata": {},
   "outputs": [],
   "source": [
    "\n",
    "all_restaurants = {}\n",
    "for number in range(1,828):\n",
    "    michelin_page = Michelin(number)\n",
    "    curr_dict = michelin_page.get_details()\n",
    "    all_restaurants[number] = curr_dict"
   ]
  },
  {
   "cell_type": "code",
   "execution_count": 72,
   "id": "0c3ab773",
   "metadata": {},
   "outputs": [],
   "source": [
    "names = []\n",
    "cities = []\n",
    "countries = []\n",
    "prices = []\n",
    "styles = []\n",
    "awards = []\n",
    "for num in range(1,828):\n",
    "    for name in all_restaurants[num]:\n",
    "        city = all_restaurants[num][name][0]\n",
    "        country = all_restaurants[num][name][1]\n",
    "        price = all_restaurants[num][name][2]\n",
    "        style = all_restaurants[num][name][3]\n",
    "        award = all_restaurants[num][name][4]\n",
    "        names.append(name)\n",
    "        cities.append(city)\n",
    "        countries.append(country)\n",
    "        \n",
    "        if len(price) > 4:\n",
    "            prices.append(None)\n",
    "        elif len(price) == 4:\n",
    "            prices.append(4)\n",
    "        elif len(price) == 3:\n",
    "            prices.append(3)\n",
    "        elif len(price) == 2:\n",
    "            prices.append(2)\n",
    "        else:\n",
    "            prices.append(1)\n",
    "        \n",
    "        styles.append(style)\n",
    "        awards.append(award)\n"
   ]
  },
  {
   "cell_type": "code",
   "execution_count": 73,
   "id": "3e354519",
   "metadata": {},
   "outputs": [],
   "source": [
    "restaurant_dictionary = {'Restaurant Name': names, 'City': cities, 'Country': countries, 'Price': prices, 'Style': styles, 'Awards': awards}\n",
    "df = pd.DataFrame(data=restaurant_dictionary)\n"
   ]
  },
  {
   "cell_type": "code",
   "execution_count": 74,
   "id": "d5105e79",
   "metadata": {},
   "outputs": [],
   "source": [
    "df.to_excel(\"restaurants3.xlsx\",\n",
    "             sheet_name='Sheet_name_1') "
   ]
  },
  {
   "cell_type": "code",
   "execution_count": null,
   "id": "6215d0ff",
   "metadata": {},
   "outputs": [],
   "source": []
  }
 ],
 "metadata": {
  "kernelspec": {
   "display_name": "Python 3 (ipykernel)",
   "language": "python",
   "name": "python3"
  },
  "language_info": {
   "codemirror_mode": {
    "name": "ipython",
    "version": 3
   },
   "file_extension": ".py",
   "mimetype": "text/x-python",
   "name": "python",
   "nbconvert_exporter": "python",
   "pygments_lexer": "ipython3",
   "version": "3.11.3"
  }
 },
 "nbformat": 4,
 "nbformat_minor": 5
}
